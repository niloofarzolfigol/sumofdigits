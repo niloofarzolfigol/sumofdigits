{
 "cells": [
  {
   "cell_type": "code",
   "execution_count": 1,
   "metadata": {},
   "outputs": [
    {
     "name": "stdout",
     "output_type": "stream",
     "text": [
      "This code calculates the sum of the digits in an integer.\n",
      "---------------------------------------------------------\n",
      "Please enter a number: 12427\n",
      "The sum of the digits is 16\n"
     ]
    }
   ],
   "source": [
    "print(\"This code calculates the sum of the digits in an integer.\")\n",
    "print(\"---------------------------------------------------------\")\n",
    "num=input(\"Please enter a number: \")\n",
    "number=int(num)\n",
    "n=len(num)-1\n",
    "s=0\n",
    "while n>=1:\n",
    "    n1=number//(10**n)\n",
    "    number=number%(10**n)\n",
    "    s=s+n1\n",
    "    n=n-1\n",
    "s=s+number\n",
    "\n",
    "print(f\"The sum of the digits is {s}\")"
   ]
  },
  {
   "cell_type": "code",
   "execution_count": null,
   "metadata": {},
   "outputs": [],
   "source": []
  }
 ],
 "metadata": {
  "kernelspec": {
   "display_name": "Python 3",
   "language": "python",
   "name": "python3"
  },
  "language_info": {
   "codemirror_mode": {
    "name": "ipython",
    "version": 3
   },
   "file_extension": ".py",
   "mimetype": "text/x-python",
   "name": "python",
   "nbconvert_exporter": "python",
   "pygments_lexer": "ipython3",
   "version": "3.8.1"
  }
 },
 "nbformat": 4,
 "nbformat_minor": 4
}
